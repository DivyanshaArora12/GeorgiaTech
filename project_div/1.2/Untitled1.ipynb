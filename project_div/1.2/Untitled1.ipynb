{
 "cells": [
  {
   "cell_type": "code",
   "execution_count": 2,
   "id": "5521251c-1303-46b0-9296-5154139c4707",
   "metadata": {},
   "outputs": [
    {
     "ename": "FileNotFoundError",
     "evalue": "[Errno 2] No such file or directory: 'full-submission.txt'",
     "output_type": "error",
     "traceback": [
      "\u001b[0;31m---------------------------------------------------------------------------\u001b[0m",
      "\u001b[0;31mFileNotFoundError\u001b[0m                         Traceback (most recent call last)",
      "\u001b[0;32m/var/folders/zv/4qn5x2pn6bb7qjm_vlvmcnqr0000gn/T/ipykernel_30726/1297318715.py\u001b[0m in \u001b[0;36m<module>\u001b[0;34m\u001b[0m\n\u001b[1;32m     54\u001b[0m \u001b[0;34m\u001b[0m\u001b[0m\n\u001b[1;32m     55\u001b[0m \u001b[0;31m# Load the 10-K filing text from the uploaded file\u001b[0m\u001b[0;34m\u001b[0m\u001b[0;34m\u001b[0m\u001b[0m\n\u001b[0;32m---> 56\u001b[0;31m \u001b[0;32mwith\u001b[0m \u001b[0mopen\u001b[0m\u001b[0;34m(\u001b[0m\u001b[0;34m\"full-submission.txt\"\u001b[0m\u001b[0;34m,\u001b[0m \u001b[0;34m\"r\"\u001b[0m\u001b[0;34m)\u001b[0m \u001b[0;32mas\u001b[0m \u001b[0mfile\u001b[0m\u001b[0;34m:\u001b[0m\u001b[0;34m\u001b[0m\u001b[0;34m\u001b[0m\u001b[0m\n\u001b[0m\u001b[1;32m     57\u001b[0m     \u001b[0mfiling_text\u001b[0m \u001b[0;34m=\u001b[0m \u001b[0mfile\u001b[0m\u001b[0;34m.\u001b[0m\u001b[0mread\u001b[0m\u001b[0;34m(\u001b[0m\u001b[0;34m)\u001b[0m\u001b[0;34m\u001b[0m\u001b[0;34m\u001b[0m\u001b[0m\n\u001b[1;32m     58\u001b[0m \u001b[0;34m\u001b[0m\u001b[0m\n",
      "\u001b[0;31mFileNotFoundError\u001b[0m: [Errno 2] No such file or directory: 'full-submission.txt'"
     ]
    }
   ],
   "source": [
    "import re\n",
    "import matplotlib.pyplot as plt # type: ignore\n",
    "from transformers import T5ForConditionalGeneration, T5Tokenizer # type: ignore\n",
    "\n",
    "# Function to extract revenue data from 10-K filing text\n",
    "def extract_revenue_data(filing_text):\n",
    "    # Regular expression pattern to match revenue figures\n",
    "    revenue_pattern = r\"(?i)\\b(revenue|sales|income)\\b.*?\\$?(\\d{1,3}(?:,\\d{3})*(?:\\.\\d+)?)\\b\"\n",
    "    \n",
    "    # Find all matches of revenue pattern in the filing text\n",
    "    revenue_matches = re.findall(revenue_pattern, filing_text)\n",
    "    \n",
    "    # Extract revenue figures from matches\n",
    "    revenues = []\n",
    "    for match in revenue_matches:\n",
    "        revenue = float(match[1].replace(\",\", \"\"))  # Convert revenue string to float\n",
    "        revenues.append(revenue)\n",
    "    \n",
    "    return revenues\n",
    "\n",
    "# Function to generate insights from 10-K filings using T5 model\n",
    "def generate_insight(filing_text):\n",
    "    # Load pre-trained T5 model and tokenizer\n",
    "    model_name = \"t5-small\"\n",
    "    tokenizer = T5Tokenizer.from_pretrained(model_name)\n",
    "    model = T5ForConditionalGeneration.from_pretrained(model_name)\n",
    "\n",
    "    # Preprocess the filing text\n",
    "    prompt = \"Generate insight about revenue growth based on the provided 10-K filing text: \"\n",
    "    input_text = prompt + filing_text[:2048]  # Limit input text to avoid exceeding maximum token length\n",
    "\n",
    "    # Tokenize input text\n",
    "    input_ids = tokenizer.encode(input_text, return_tensors=\"pt\", max_length=512, truncation=True)\n",
    "\n",
    "    # Generate insight using the T5 model\n",
    "    output = model.generate(input_ids, max_length=100, num_return_sequences=1)\n",
    "\n",
    "    # Decode the generated insight\n",
    "    generated_insight = tokenizer.decode(output[0], skip_special_tokens=True)\n",
    "\n",
    "    return generated_insight\n",
    "\n",
    "# Function to visualize revenue data for a specific year\n",
    "def visualize_revenue_growth(year, revenues):\n",
    "    # Plot revenue data for the given year\n",
    "    plt.figure(figsize=(8, 6))\n",
    "    plt.plot(revenues, marker='o', color='b', linestyle='-')\n",
    "    plt.title(f'Company XYZ Revenue Growth ({year})')\n",
    "    plt.xlabel('Quarter')\n",
    "    plt.ylabel('Revenue (USD)')\n",
    "    plt.grid(True)\n",
    "    plt.tight_layout()\n",
    "    plt.show()\n",
    "\n",
    "# Load the 10-K filing text from the uploaded file\n",
    "with open(\"full-submission.txt\", \"r\") as file:\n",
    "    filing_text = file.read()\n",
    "\n",
    "# Generate insight from the filing text\n",
    "insight = generate_insight(filing_text)\n",
    "print(\"Generated Insight:\", insight)\n",
    "\n",
    "# Extract revenue data from the filing text\n",
    "revenues = extract_revenue_data(filing_text)\n",
    "\n",
    "# Visualize revenue growth for the specific year\n",
    "visualize_revenue_growth(\"2022\", revenues)\n"
   ]
  },
  {
   "cell_type": "code",
   "execution_count": null,
   "id": "9ae8a5d1-9803-4ee4-87ef-dad42386497e",
   "metadata": {},
   "outputs": [
    {
     "ename": "",
     "evalue": "",
     "output_type": "error",
     "traceback": [
      "\u001b[1;31mRunning cells with 'Python 3.11.5' requires the ipykernel package.\n",
      "\u001b[1;31mRun the following command to install 'ipykernel' into the Python environment. \n",
      "\u001b[1;31mCommand: '/usr/local/bin/python3 -m pip install ipykernel -U --user --force-reinstall'"
     ]
    }
   ],
   "source": []
  }
 ],
 "metadata": {
  "kernelspec": {
   "display_name": "Python 3 (ipykernel)",
   "language": "python",
   "name": "python3"
  },
  "language_info": {
   "codemirror_mode": {
    "name": "ipython",
    "version": 3
   },
   "file_extension": ".py",
   "mimetype": "text/x-python",
   "name": "python",
   "nbconvert_exporter": "python",
   "pygments_lexer": "ipython3",
   "version": "3.9.13"
  }
 },
 "nbformat": 4,
 "nbformat_minor": 5
}
